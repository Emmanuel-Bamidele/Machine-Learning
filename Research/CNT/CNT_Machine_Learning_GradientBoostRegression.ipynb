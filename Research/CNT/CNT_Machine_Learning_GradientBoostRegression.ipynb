{
 "cells": [
  {
   "cell_type": "code",
   "execution_count": 1,
   "metadata": {},
   "outputs": [],
   "source": [
    "import os\n",
    "os.environ[\"TF_CPP_MIN_LOG_LEVEL\"] = '2'"
   ]
  },
  {
   "cell_type": "code",
   "execution_count": 27,
   "metadata": {},
   "outputs": [],
   "source": [
    "import pandas as pd\n",
    "import numpy as np\n",
    "from sklearn.model_selection import train_test_split\n",
    "from sklearn.preprocessing import StandardScaler\n",
    "from sklearn import preprocessing\n",
    "from sklearn.multioutput import MultiOutputRegressor\n",
    "import seaborn as sns\n",
    "from matplotlib import pyplot as plt\n",
    "from matplotlib import style\n",
    "\n",
    "from sklearn.ensemble import GradientBoostingRegressor\n",
    "\n",
    "\n",
    "%matplotlib inline\n",
    "import tensorflow as tf"
   ]
  },
  {
   "cell_type": "code",
   "execution_count": 16,
   "metadata": {},
   "outputs": [
    {
     "data": {
      "text/html": [
       "<div>\n",
       "<style scoped>\n",
       "    .dataframe tbody tr th:only-of-type {\n",
       "        vertical-align: middle;\n",
       "    }\n",
       "\n",
       "    .dataframe tbody tr th {\n",
       "        vertical-align: top;\n",
       "    }\n",
       "\n",
       "    .dataframe thead th {\n",
       "        text-align: right;\n",
       "    }\n",
       "</style>\n",
       "<table border=\"1\" class=\"dataframe\">\n",
       "  <thead>\n",
       "    <tr style=\"text-align: right;\">\n",
       "      <th></th>\n",
       "      <th>Chiral indice n</th>\n",
       "      <th>Chiral indice m</th>\n",
       "      <th>Initial atomic coordinate u</th>\n",
       "      <th>Initial atomic coordinate v</th>\n",
       "      <th>Initial atomic coordinate w</th>\n",
       "      <th>Calculated atomic coordinates u'</th>\n",
       "      <th>Calculated atomic coordinates v'</th>\n",
       "      <th>Calculated atomic coordinates w'</th>\n",
       "    </tr>\n",
       "  </thead>\n",
       "  <tbody>\n",
       "    <tr>\n",
       "      <th>0</th>\n",
       "      <td>2</td>\n",
       "      <td>1</td>\n",
       "      <td>0,679005</td>\n",
       "      <td>0,701318</td>\n",
       "      <td>0,017033</td>\n",
       "      <td>0,721039</td>\n",
       "      <td>0,730232</td>\n",
       "      <td>0,017014</td>\n",
       "    </tr>\n",
       "    <tr>\n",
       "      <th>1</th>\n",
       "      <td>2</td>\n",
       "      <td>1</td>\n",
       "      <td>0,717298</td>\n",
       "      <td>0,642129</td>\n",
       "      <td>0,231319</td>\n",
       "      <td>0,738414</td>\n",
       "      <td>0,65675</td>\n",
       "      <td>0,232369</td>\n",
       "    </tr>\n",
       "    <tr>\n",
       "      <th>2</th>\n",
       "      <td>2</td>\n",
       "      <td>1</td>\n",
       "      <td>0,489336</td>\n",
       "      <td>0,303751</td>\n",
       "      <td>0,088462</td>\n",
       "      <td>0,477676</td>\n",
       "      <td>0,263221</td>\n",
       "      <td>0,088712</td>\n",
       "    </tr>\n",
       "    <tr>\n",
       "      <th>3</th>\n",
       "      <td>2</td>\n",
       "      <td>1</td>\n",
       "      <td>0,413957</td>\n",
       "      <td>0,632996</td>\n",
       "      <td>0,040843</td>\n",
       "      <td>0,408823</td>\n",
       "      <td>0,657897</td>\n",
       "      <td>0,039796</td>\n",
       "    </tr>\n",
       "    <tr>\n",
       "      <th>4</th>\n",
       "      <td>2</td>\n",
       "      <td>1</td>\n",
       "      <td>0,334292</td>\n",
       "      <td>0,543401</td>\n",
       "      <td>0,15989</td>\n",
       "      <td>0,303349</td>\n",
       "      <td>0,558807</td>\n",
       "      <td>0,157373</td>\n",
       "    </tr>\n",
       "  </tbody>\n",
       "</table>\n",
       "</div>"
      ],
      "text/plain": [
       "   Chiral indice n  Chiral indice m Initial atomic coordinate u  \\\n",
       "0                2                1                    0,679005   \n",
       "1                2                1                    0,717298   \n",
       "2                2                1                    0,489336   \n",
       "3                2                1                    0,413957   \n",
       "4                2                1                    0,334292   \n",
       "\n",
       "  Initial atomic coordinate v Initial atomic coordinate w  \\\n",
       "0                    0,701318                    0,017033   \n",
       "1                    0,642129                    0,231319   \n",
       "2                    0,303751                    0,088462   \n",
       "3                    0,632996                    0,040843   \n",
       "4                    0,543401                     0,15989   \n",
       "\n",
       "  Calculated atomic coordinates u' Calculated atomic coordinates v'  \\\n",
       "0                         0,721039                         0,730232   \n",
       "1                         0,738414                          0,65675   \n",
       "2                         0,477676                         0,263221   \n",
       "3                         0,408823                         0,657897   \n",
       "4                         0,303349                         0,558807   \n",
       "\n",
       "  Calculated atomic coordinates w'  \n",
       "0                         0,017014  \n",
       "1                         0,232369  \n",
       "2                         0,088712  \n",
       "3                         0,039796  \n",
       "4                         0,157373  "
      ]
     },
     "execution_count": 16,
     "metadata": {},
     "output_type": "execute_result"
    }
   ],
   "source": [
    "cnt = pd.read_csv(\"carbon_nanotubes.csv\")\n",
    "cnt.head()"
   ]
  },
  {
   "cell_type": "code",
   "execution_count": 17,
   "metadata": {},
   "outputs": [
    {
     "data": {
      "text/plain": [
       "Index(['Chiral indice n', 'Chiral indice m', 'Initial atomic coordinate u',\n",
       "       'Initial atomic coordinate v', 'Initial atomic coordinate w',\n",
       "       'Calculated atomic coordinates u'', 'Calculated atomic coordinates v'',\n",
       "       'Calculated atomic coordinates w''],\n",
       "      dtype='object')"
      ]
     },
     "execution_count": 17,
     "metadata": {},
     "output_type": "execute_result"
    }
   ],
   "source": [
    "cnt.columns"
   ]
  },
  {
   "cell_type": "code",
   "execution_count": 18,
   "metadata": {
    "scrolled": true
   },
   "outputs": [
    {
     "data": {
      "text/html": [
       "<div>\n",
       "<style scoped>\n",
       "    .dataframe tbody tr th:only-of-type {\n",
       "        vertical-align: middle;\n",
       "    }\n",
       "\n",
       "    .dataframe tbody tr th {\n",
       "        vertical-align: top;\n",
       "    }\n",
       "\n",
       "    .dataframe thead th {\n",
       "        text-align: right;\n",
       "    }\n",
       "</style>\n",
       "<table border=\"1\" class=\"dataframe\">\n",
       "  <thead>\n",
       "    <tr style=\"text-align: right;\">\n",
       "      <th></th>\n",
       "      <th>chiral_index_n</th>\n",
       "      <th>chiral_index_m</th>\n",
       "      <th>initial_coord_u</th>\n",
       "      <th>initial_coord_v</th>\n",
       "      <th>initial_coord_w</th>\n",
       "      <th>calc_coord_u</th>\n",
       "      <th>calc_coord_v</th>\n",
       "      <th>calc_coord_w</th>\n",
       "    </tr>\n",
       "  </thead>\n",
       "  <tbody>\n",
       "    <tr>\n",
       "      <th>0</th>\n",
       "      <td>2</td>\n",
       "      <td>1</td>\n",
       "      <td>0,679005</td>\n",
       "      <td>0,701318</td>\n",
       "      <td>0,017033</td>\n",
       "      <td>0,721039</td>\n",
       "      <td>0,730232</td>\n",
       "      <td>0,017014</td>\n",
       "    </tr>\n",
       "    <tr>\n",
       "      <th>1</th>\n",
       "      <td>2</td>\n",
       "      <td>1</td>\n",
       "      <td>0,717298</td>\n",
       "      <td>0,642129</td>\n",
       "      <td>0,231319</td>\n",
       "      <td>0,738414</td>\n",
       "      <td>0,65675</td>\n",
       "      <td>0,232369</td>\n",
       "    </tr>\n",
       "    <tr>\n",
       "      <th>2</th>\n",
       "      <td>2</td>\n",
       "      <td>1</td>\n",
       "      <td>0,489336</td>\n",
       "      <td>0,303751</td>\n",
       "      <td>0,088462</td>\n",
       "      <td>0,477676</td>\n",
       "      <td>0,263221</td>\n",
       "      <td>0,088712</td>\n",
       "    </tr>\n",
       "    <tr>\n",
       "      <th>3</th>\n",
       "      <td>2</td>\n",
       "      <td>1</td>\n",
       "      <td>0,413957</td>\n",
       "      <td>0,632996</td>\n",
       "      <td>0,040843</td>\n",
       "      <td>0,408823</td>\n",
       "      <td>0,657897</td>\n",
       "      <td>0,039796</td>\n",
       "    </tr>\n",
       "    <tr>\n",
       "      <th>4</th>\n",
       "      <td>2</td>\n",
       "      <td>1</td>\n",
       "      <td>0,334292</td>\n",
       "      <td>0,543401</td>\n",
       "      <td>0,15989</td>\n",
       "      <td>0,303349</td>\n",
       "      <td>0,558807</td>\n",
       "      <td>0,157373</td>\n",
       "    </tr>\n",
       "  </tbody>\n",
       "</table>\n",
       "</div>"
      ],
      "text/plain": [
       "   chiral_index_n  chiral_index_m initial_coord_u initial_coord_v  \\\n",
       "0               2               1        0,679005        0,701318   \n",
       "1               2               1        0,717298        0,642129   \n",
       "2               2               1        0,489336        0,303751   \n",
       "3               2               1        0,413957        0,632996   \n",
       "4               2               1        0,334292        0,543401   \n",
       "\n",
       "  initial_coord_w calc_coord_u calc_coord_v calc_coord_w  \n",
       "0        0,017033     0,721039     0,730232     0,017014  \n",
       "1        0,231319     0,738414      0,65675     0,232369  \n",
       "2        0,088462     0,477676     0,263221     0,088712  \n",
       "3        0,040843     0,408823     0,657897     0,039796  \n",
       "4         0,15989     0,303349     0,558807     0,157373  "
      ]
     },
     "execution_count": 18,
     "metadata": {},
     "output_type": "execute_result"
    }
   ],
   "source": [
    "cnt.columns=['chiral_index_n', 'chiral_index_m', 'initial_coord_u', 'initial_coord_v', 'initial_coord_w', 'calc_coord_u', 'calc_coord_v', 'calc_coord_w']\n",
    "cnt_nn = cnt[['chiral_index_n', 'chiral_index_m','initial_coord_u', 'initial_coord_v', 'initial_coord_w', 'calc_coord_u', 'calc_coord_v', 'calc_coord_w']]\n",
    "cnt_nn.head()"
   ]
  },
  {
   "cell_type": "code",
   "execution_count": 19,
   "metadata": {},
   "outputs": [],
   "source": [
    "cnt_nn.replace(',','.', inplace = True, regex=True)\n",
    "cnt_nn = cnt_nn.apply(pd.to_numeric)"
   ]
  },
  {
   "cell_type": "code",
   "execution_count": 20,
   "metadata": {},
   "outputs": [],
   "source": [
    "x_set = cnt_nn[['chiral_index_n', 'chiral_index_m','initial_coord_u', 'initial_coord_v', 'initial_coord_w']]\n",
    "y_set = cnt_nn[['calc_coord_u', 'calc_coord_v', 'calc_coord_w']]"
   ]
  },
  {
   "cell_type": "code",
   "execution_count": 21,
   "metadata": {},
   "outputs": [],
   "source": [
    "# split the data into train and test set\n",
    "x_train, x_test, y_train, y_test = train_test_split(x_set, y_set, test_size=0.2)"
   ]
  },
  {
   "cell_type": "code",
   "execution_count": 22,
   "metadata": {},
   "outputs": [],
   "source": [
    "# scale the dataset because of two features n and m\n",
    "train = preprocessing.scale(x_train)\n",
    "test = preprocessing.scale(y_test)"
   ]
  },
  {
   "cell_type": "code",
   "execution_count": 23,
   "metadata": {},
   "outputs": [
    {
     "name": "stdout",
     "output_type": "stream",
     "text": [
      "(8576, 5) (2145, 5)\n"
     ]
    }
   ],
   "source": [
    "print(x_train.shape, x_test.shape)"
   ]
  },
  {
   "cell_type": "code",
   "execution_count": 24,
   "metadata": {
    "scrolled": true
   },
   "outputs": [
    {
     "data": {
      "text/html": [
       "<div>\n",
       "<style scoped>\n",
       "    .dataframe tbody tr th:only-of-type {\n",
       "        vertical-align: middle;\n",
       "    }\n",
       "\n",
       "    .dataframe tbody tr th {\n",
       "        vertical-align: top;\n",
       "    }\n",
       "\n",
       "    .dataframe thead th {\n",
       "        text-align: right;\n",
       "    }\n",
       "</style>\n",
       "<table border=\"1\" class=\"dataframe\">\n",
       "  <thead>\n",
       "    <tr style=\"text-align: right;\">\n",
       "      <th></th>\n",
       "      <th>calc_coord_u</th>\n",
       "      <th>calc_coord_v</th>\n",
       "      <th>calc_coord_w</th>\n",
       "    </tr>\n",
       "  </thead>\n",
       "  <tbody>\n",
       "    <tr>\n",
       "      <th>5259</th>\n",
       "      <td>0.461099</td>\n",
       "      <td>0.846363</td>\n",
       "      <td>0.447514</td>\n",
       "    </tr>\n",
       "    <tr>\n",
       "      <th>2284</th>\n",
       "      <td>0.153643</td>\n",
       "      <td>0.178826</td>\n",
       "      <td>0.009976</td>\n",
       "    </tr>\n",
       "    <tr>\n",
       "      <th>2203</th>\n",
       "      <td>0.833401</td>\n",
       "      <td>0.515366</td>\n",
       "      <td>0.580663</td>\n",
       "    </tr>\n",
       "    <tr>\n",
       "      <th>266</th>\n",
       "      <td>0.403295</td>\n",
       "      <td>0.724069</td>\n",
       "      <td>0.686613</td>\n",
       "    </tr>\n",
       "    <tr>\n",
       "      <th>6972</th>\n",
       "      <td>0.860424</td>\n",
       "      <td>0.868933</td>\n",
       "      <td>0.445292</td>\n",
       "    </tr>\n",
       "  </tbody>\n",
       "</table>\n",
       "</div>"
      ],
      "text/plain": [
       "      calc_coord_u  calc_coord_v  calc_coord_w\n",
       "5259      0.461099      0.846363      0.447514\n",
       "2284      0.153643      0.178826      0.009976\n",
       "2203      0.833401      0.515366      0.580663\n",
       "266       0.403295      0.724069      0.686613\n",
       "6972      0.860424      0.868933      0.445292"
      ]
     },
     "execution_count": 24,
     "metadata": {},
     "output_type": "execute_result"
    }
   ],
   "source": [
    "y_train.head()"
   ]
  },
  {
   "cell_type": "markdown",
   "metadata": {},
   "source": [
    "### Gradient Boosting Regression"
   ]
  },
  {
   "cell_type": "code",
   "execution_count": 29,
   "metadata": {},
   "outputs": [
    {
     "data": {
      "text/plain": [
       "MultiOutputRegressor(estimator=GradientBoostingRegressor(random_state=42))"
      ]
     },
     "execution_count": 29,
     "metadata": {},
     "output_type": "execute_result"
    }
   ],
   "source": [
    "gbModel = MultiOutputRegressor(GradientBoostingRegressor(random_state=42))\n",
    "gbModel.fit(x_train, y_train)"
   ]
  },
  {
   "cell_type": "code",
   "execution_count": 48,
   "metadata": {},
   "outputs": [
    {
     "data": {
      "text/plain": [
       "0.9994545374766881"
      ]
     },
     "execution_count": 48,
     "metadata": {},
     "output_type": "execute_result"
    }
   ],
   "source": [
    "gbModel.score(x_train, y_train)"
   ]
  },
  {
   "cell_type": "code",
   "execution_count": 47,
   "metadata": {
    "scrolled": true
   },
   "outputs": [
    {
     "data": {
      "text/plain": [
       "0.9991785469358153"
      ]
     },
     "execution_count": 47,
     "metadata": {},
     "output_type": "execute_result"
    }
   ],
   "source": [
    "gbModel.score(x_test, y_test)"
   ]
  },
  {
   "cell_type": "code",
   "execution_count": 30,
   "metadata": {
    "scrolled": true
   },
   "outputs": [],
   "source": [
    "y_pred_gb = gbModel.predict(x_test)"
   ]
  },
  {
   "cell_type": "code",
   "execution_count": 31,
   "metadata": {},
   "outputs": [
    {
     "data": {
      "text/plain": [
       "array([[0.21950231, 0.09088104, 0.66325339],\n",
       "       [0.74196686, 0.33828746, 0.93888968],\n",
       "       [0.21969787, 0.10690951, 0.13036998],\n",
       "       ...,\n",
       "       [0.86194014, 0.48167833, 0.70414999],\n",
       "       [0.73010726, 0.89809094, 0.97139544],\n",
       "       [0.28387391, 0.07535926, 0.93894746]])"
      ]
     },
     "execution_count": 31,
     "metadata": {},
     "output_type": "execute_result"
    }
   ],
   "source": [
    "y_pred_gb"
   ]
  },
  {
   "cell_type": "code",
   "execution_count": 34,
   "metadata": {},
   "outputs": [
    {
     "name": "stdout",
     "output_type": "stream",
     "text": [
      "Mean Absolute Error: 0.002629001542087544\n",
      "Mean Squared Error: 7.036151844753212e-05\n",
      "Root Mean Squared Error: 0.008388177301865533\n"
     ]
    }
   ],
   "source": [
    "from sklearn import metrics\n",
    "print('Mean Absolute Error:', metrics.mean_absolute_error(y_test, y_pred_gb))\n",
    "print('Mean Squared Error:', metrics.mean_squared_error(y_test, y_pred_gb))\n",
    "print('Root Mean Squared Error:', np.sqrt(metrics.mean_squared_error(y_test, y_pred_gb)))"
   ]
  },
  {
   "cell_type": "code",
   "execution_count": 35,
   "metadata": {},
   "outputs": [
    {
     "name": "stdout",
     "output_type": "stream",
     "text": [
      "Mean Absolute Error: calc_coord_u    0.0\n",
      "calc_coord_v    0.0\n",
      "calc_coord_w    0.0\n",
      "dtype: float64 degrees.\n",
      "Accuracy: calc_coord_u    99.12\n",
      "calc_coord_v    99.13\n",
      "calc_coord_w    98.37\n",
      "dtype: float64 %.\n"
     ]
    }
   ],
   "source": [
    "# Calculate the absolute errors\n",
    "errors = abs(y_pred_gb - y_test)\n",
    "# Print out the mean absolute error (mae)\n",
    "print('Mean Absolute Error:', round(np.mean(errors), 2), 'degrees.')\n",
    "\n",
    "# Calculate mean absolute percentage error (MAPE)\n",
    "mape = 100 * (errors / y_test)\n",
    "# Calculate and display accuracy\n",
    "accuracy = 100 - np.mean(mape)\n",
    "print('Accuracy:', round(accuracy, 2), '%.')"
   ]
  },
  {
   "cell_type": "code",
   "execution_count": 39,
   "metadata": {},
   "outputs": [
    {
     "data": {
      "image/png": "[encoded data removed]",
      "text/plain": [
       "<Figure size 648x504 with 1 Axes>"
      ]
     },
     "metadata": {
      "needs_background": "light"
     },
     "output_type": "display_data"
    }
   ],
   "source": [
    "fig, (ax1) = plt.subplots(figsize=(9,7))\n",
    "\n",
    "paper_rc = {'lines.linewidth':1.5}\n",
    "ax1 =sns.set_context(\"paper\", font_scale=1.8, rc=paper_rc)\n",
    "\n",
    "plt.scatter(y_test, y_pred_gb, color='crimson')\n",
    "plt.xlabel(\"True Values\")\n",
    "plt.ylabel(\"Predictions\")\n",
    "\n",
    "ax1_name = 'True_vs_Predicted_value_for_XBoost' + '.jpeg'\n",
    "plt.savefig(ax1_name, dpi=300);\n",
    "\n",
    "plt.show()"
   ]
  },
  {
   "cell_type": "code",
   "execution_count": 44,
   "metadata": {},
   "outputs": [
    {
     "data": {
      "image/png": "[encoded data removed]",
      "text/plain": [
       "<Figure size 648x504 with 1 Axes>"
      ]
     },
     "metadata": {
      "needs_background": "light"
     },
     "output_type": "display_data"
    }
   ],
   "source": [
    "fig, (ax3) = plt.subplots(figsize=(9,7))\n",
    "\n",
    "paper_rc = {'lines.linewidth':1.5}\n",
    "ax3 =sns.set_context(\"paper\", font_scale=1.5, rc=paper_rc)\n",
    "\n",
    "ax3 = sns.distplot(y_test, hist=False, color=\"r\", label=\"True Value\")\n",
    "sns.distplot(y_pred_gb, hist=False, color=\"b\", label=\"Predicted Values\" , ax=ax3)\n",
    "plt.xlabel('Coordinates')\n",
    "plt.ylabel('Density')\n",
    "\n",
    "ax3_name = 'True_vs_Predicted_value_distplot__for_XBoost' + '.tiff'\n",
    "plt.savefig(ax3_name, dpi=300);\n",
    "\n",
    "\n",
    "plt.show()\n",
    "plt.close()"
   ]
  }
 ],
 "metadata": {
  "kernelspec": {
   "display_name": "Python 3",
   "language": "python",
   "name": "python3"
  },
  "language_info": {
   "codemirror_mode": {
    "name": "ipython",
    "version": 3
   },
   "file_extension": ".py",
   "mimetype": "text/x-python",
   "name": "python",
   "nbconvert_exporter": "python",
   "pygments_lexer": "ipython3",
   "version": "3.8.10"
  }
 },
 "nbformat": 4,
 "nbformat_minor": 4
}
