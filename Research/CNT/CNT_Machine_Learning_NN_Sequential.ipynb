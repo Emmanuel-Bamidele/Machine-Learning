{
 "cells": [
  {
   "cell_type": "code",
   "execution_count": 1,
   "metadata": {},
   "outputs": [],
   "source": [
    "import os\n",
    "os.environ[\"TF_CPP_MIN_LOG_LEVEL\"] = '2'"
   ]
  },
  {
   "cell_type": "code",
   "execution_count": 2,
   "metadata": {},
   "outputs": [],
   "source": [
    "import pandas as pd\n",
    "import numpy as np\n",
    "import seaborn as sns\n",
    "import matplotlib.pyplot as plt\n",
    "from sklearn.model_selection import train_test_split\n",
    "from sklearn import preprocessing\n",
    "from sklearn.model_selection import train_test_split\n",
    "from sklearn.metrics import r2_score\n",
    "from sklearn.preprocessing import MinMaxScaler\n",
    "from tensorflow.keras.optimizers import Adam\n",
    "\n",
    "import tensorflow as tf\n",
    "from tensorflow import keras\n",
    "from tensorflow.keras import layers, regularizers\n",
    "from tensorflow.keras import backend as K"
   ]
  },
  {
   "cell_type": "code",
   "execution_count": 3,
   "metadata": {},
   "outputs": [
    {
     "data": {
      "text/html": [
       "<div>\n",
       "<style scoped>\n",
       "    .dataframe tbody tr th:only-of-type {\n",
       "        vertical-align: middle;\n",
       "    }\n",
       "\n",
       "    .dataframe tbody tr th {\n",
       "        vertical-align: top;\n",
       "    }\n",
       "\n",
       "    .dataframe thead th {\n",
       "        text-align: right;\n",
       "    }\n",
       "</style>\n",
       "<table border=\"1\" class=\"dataframe\">\n",
       "  <thead>\n",
       "    <tr style=\"text-align: right;\">\n",
       "      <th></th>\n",
       "      <th>Chiral indice n</th>\n",
       "      <th>Chiral indice m</th>\n",
       "      <th>Initial atomic coordinate u</th>\n",
       "      <th>Initial atomic coordinate v</th>\n",
       "      <th>Initial atomic coordinate w</th>\n",
       "      <th>Calculated atomic coordinates u'</th>\n",
       "      <th>Calculated atomic coordinates v'</th>\n",
       "      <th>Calculated atomic coordinates w'</th>\n",
       "    </tr>\n",
       "  </thead>\n",
       "  <tbody>\n",
       "    <tr>\n",
       "      <th>0</th>\n",
       "      <td>2</td>\n",
       "      <td>1</td>\n",
       "      <td>0,679005</td>\n",
       "      <td>0,701318</td>\n",
       "      <td>0,017033</td>\n",
       "      <td>0,721039</td>\n",
       "      <td>0,730232</td>\n",
       "      <td>0,017014</td>\n",
       "    </tr>\n",
       "    <tr>\n",
       "      <th>1</th>\n",
       "      <td>2</td>\n",
       "      <td>1</td>\n",
       "      <td>0,717298</td>\n",
       "      <td>0,642129</td>\n",
       "      <td>0,231319</td>\n",
       "      <td>0,738414</td>\n",
       "      <td>0,65675</td>\n",
       "      <td>0,232369</td>\n",
       "    </tr>\n",
       "    <tr>\n",
       "      <th>2</th>\n",
       "      <td>2</td>\n",
       "      <td>1</td>\n",
       "      <td>0,489336</td>\n",
       "      <td>0,303751</td>\n",
       "      <td>0,088462</td>\n",
       "      <td>0,477676</td>\n",
       "      <td>0,263221</td>\n",
       "      <td>0,088712</td>\n",
       "    </tr>\n",
       "    <tr>\n",
       "      <th>3</th>\n",
       "      <td>2</td>\n",
       "      <td>1</td>\n",
       "      <td>0,413957</td>\n",
       "      <td>0,632996</td>\n",
       "      <td>0,040843</td>\n",
       "      <td>0,408823</td>\n",
       "      <td>0,657897</td>\n",
       "      <td>0,039796</td>\n",
       "    </tr>\n",
       "    <tr>\n",
       "      <th>4</th>\n",
       "      <td>2</td>\n",
       "      <td>1</td>\n",
       "      <td>0,334292</td>\n",
       "      <td>0,543401</td>\n",
       "      <td>0,15989</td>\n",
       "      <td>0,303349</td>\n",
       "      <td>0,558807</td>\n",
       "      <td>0,157373</td>\n",
       "    </tr>\n",
       "  </tbody>\n",
       "</table>\n",
       "</div>"
      ],
      "text/plain": [
       "   Chiral indice n  Chiral indice m Initial atomic coordinate u  \\\n",
       "0                2                1                    0,679005   \n",
       "1                2                1                    0,717298   \n",
       "2                2                1                    0,489336   \n",
       "3                2                1                    0,413957   \n",
       "4                2                1                    0,334292   \n",
       "\n",
       "  Initial atomic coordinate v Initial atomic coordinate w  \\\n",
       "0                    0,701318                    0,017033   \n",
       "1                    0,642129                    0,231319   \n",
       "2                    0,303751                    0,088462   \n",
       "3                    0,632996                    0,040843   \n",
       "4                    0,543401                     0,15989   \n",
       "\n",
       "  Calculated atomic coordinates u' Calculated atomic coordinates v'  \\\n",
       "0                         0,721039                         0,730232   \n",
       "1                         0,738414                          0,65675   \n",
       "2                         0,477676                         0,263221   \n",
       "3                         0,408823                         0,657897   \n",
       "4                         0,303349                         0,558807   \n",
       "\n",
       "  Calculated atomic coordinates w'  \n",
       "0                         0,017014  \n",
       "1                         0,232369  \n",
       "2                         0,088712  \n",
       "3                         0,039796  \n",
       "4                         0,157373  "
      ]
     },
     "execution_count": 3,
     "metadata": {},
     "output_type": "execute_result"
    }
   ],
   "source": [
    "cnt = pd.read_csv(\"carbon_nanotubes.csv\")\n",
    "cnt.head()"
   ]
  },
  {
   "cell_type": "code",
   "execution_count": 4,
   "metadata": {},
   "outputs": [
    {
     "data": {
      "text/plain": [
       "Index(['Chiral indice n', 'Chiral indice m', 'Initial atomic coordinate u',\n",
       "       'Initial atomic coordinate v', 'Initial atomic coordinate w',\n",
       "       'Calculated atomic coordinates u'', 'Calculated atomic coordinates v'',\n",
       "       'Calculated atomic coordinates w''],\n",
       "      dtype='object')"
      ]
     },
     "execution_count": 4,
     "metadata": {},
     "output_type": "execute_result"
    }
   ],
   "source": [
    "cnt.columns"
   ]
  },
  {
   "cell_type": "code",
   "execution_count": 5,
   "metadata": {
    "scrolled": true
   },
   "outputs": [
    {
     "data": {
      "text/html": [
       "<div>\n",
       "<style scoped>\n",
       "    .dataframe tbody tr th:only-of-type {\n",
       "        vertical-align: middle;\n",
       "    }\n",
       "\n",
       "    .dataframe tbody tr th {\n",
       "        vertical-align: top;\n",
       "    }\n",
       "\n",
       "    .dataframe thead th {\n",
       "        text-align: right;\n",
       "    }\n",
       "</style>\n",
       "<table border=\"1\" class=\"dataframe\">\n",
       "  <thead>\n",
       "    <tr style=\"text-align: right;\">\n",
       "      <th></th>\n",
       "      <th>chiral_index_n</th>\n",
       "      <th>chiral_index_m</th>\n",
       "      <th>initial_coord_u</th>\n",
       "      <th>initial_coord_v</th>\n",
       "      <th>initial_coord_w</th>\n",
       "      <th>calc_coord_u</th>\n",
       "      <th>calc_coord_v</th>\n",
       "      <th>calc_coord_w</th>\n",
       "    </tr>\n",
       "  </thead>\n",
       "  <tbody>\n",
       "    <tr>\n",
       "      <th>0</th>\n",
       "      <td>2</td>\n",
       "      <td>1</td>\n",
       "      <td>0,679005</td>\n",
       "      <td>0,701318</td>\n",
       "      <td>0,017033</td>\n",
       "      <td>0,721039</td>\n",
       "      <td>0,730232</td>\n",
       "      <td>0,017014</td>\n",
       "    </tr>\n",
       "    <tr>\n",
       "      <th>1</th>\n",
       "      <td>2</td>\n",
       "      <td>1</td>\n",
       "      <td>0,717298</td>\n",
       "      <td>0,642129</td>\n",
       "      <td>0,231319</td>\n",
       "      <td>0,738414</td>\n",
       "      <td>0,65675</td>\n",
       "      <td>0,232369</td>\n",
       "    </tr>\n",
       "    <tr>\n",
       "      <th>2</th>\n",
       "      <td>2</td>\n",
       "      <td>1</td>\n",
       "      <td>0,489336</td>\n",
       "      <td>0,303751</td>\n",
       "      <td>0,088462</td>\n",
       "      <td>0,477676</td>\n",
       "      <td>0,263221</td>\n",
       "      <td>0,088712</td>\n",
       "    </tr>\n",
       "    <tr>\n",
       "      <th>3</th>\n",
       "      <td>2</td>\n",
       "      <td>1</td>\n",
       "      <td>0,413957</td>\n",
       "      <td>0,632996</td>\n",
       "      <td>0,040843</td>\n",
       "      <td>0,408823</td>\n",
       "      <td>0,657897</td>\n",
       "      <td>0,039796</td>\n",
       "    </tr>\n",
       "    <tr>\n",
       "      <th>4</th>\n",
       "      <td>2</td>\n",
       "      <td>1</td>\n",
       "      <td>0,334292</td>\n",
       "      <td>0,543401</td>\n",
       "      <td>0,15989</td>\n",
       "      <td>0,303349</td>\n",
       "      <td>0,558807</td>\n",
       "      <td>0,157373</td>\n",
       "    </tr>\n",
       "  </tbody>\n",
       "</table>\n",
       "</div>"
      ],
      "text/plain": [
       "   chiral_index_n  chiral_index_m initial_coord_u initial_coord_v  \\\n",
       "0               2               1        0,679005        0,701318   \n",
       "1               2               1        0,717298        0,642129   \n",
       "2               2               1        0,489336        0,303751   \n",
       "3               2               1        0,413957        0,632996   \n",
       "4               2               1        0,334292        0,543401   \n",
       "\n",
       "  initial_coord_w calc_coord_u calc_coord_v calc_coord_w  \n",
       "0        0,017033     0,721039     0,730232     0,017014  \n",
       "1        0,231319     0,738414      0,65675     0,232369  \n",
       "2        0,088462     0,477676     0,263221     0,088712  \n",
       "3        0,040843     0,408823     0,657897     0,039796  \n",
       "4         0,15989     0,303349     0,558807     0,157373  "
      ]
     },
     "execution_count": 5,
     "metadata": {},
     "output_type": "execute_result"
    }
   ],
   "source": [
    "cnt.columns=['chiral_index_n', 'chiral_index_m', 'initial_coord_u', 'initial_coord_v', 'initial_coord_w', 'calc_coord_u', 'calc_coord_v', 'calc_coord_w']\n",
    "cnt_nn = cnt[['chiral_index_n', 'chiral_index_m','initial_coord_u', 'initial_coord_v', 'initial_coord_w', 'calc_coord_u', 'calc_coord_v', 'calc_coord_w']]\n",
    "cnt_nn.head()"
   ]
  },
  {
   "cell_type": "code",
   "execution_count": 6,
   "metadata": {},
   "outputs": [],
   "source": [
    "cnt_nn.replace(',','.', inplace = True, regex=True)\n",
    "cnt_nn = cnt_nn.apply(pd.to_numeric)"
   ]
  },
  {
   "cell_type": "code",
   "execution_count": 7,
   "metadata": {},
   "outputs": [],
   "source": [
    "x_set = cnt_nn[['chiral_index_n', 'chiral_index_m','initial_coord_u', 'initial_coord_v', 'initial_coord_w']]\n",
    "y_set = cnt_nn[['calc_coord_u', 'calc_coord_v', 'calc_coord_w']]"
   ]
  },
  {
   "cell_type": "code",
   "execution_count": 8,
   "metadata": {},
   "outputs": [],
   "source": [
    "# split the data into train and test set\n",
    "x_train, x_test, y_train, y_test = train_test_split(x_set, y_set, test_size=0.2)"
   ]
  },
  {
   "cell_type": "code",
   "execution_count": 9,
   "metadata": {},
   "outputs": [],
   "source": [
    "# scale the dataset because of two features n and m\n",
    "train = preprocessing.scale(x_train)\n",
    "test = preprocessing.scale(y_test)"
   ]
  },
  {
   "cell_type": "code",
   "execution_count": 10,
   "metadata": {},
   "outputs": [
    {
     "name": "stdout",
     "output_type": "stream",
     "text": [
      "(8576, 5) (2145, 5)\n"
     ]
    }
   ],
   "source": [
    "print(x_train.shape, x_test.shape)"
   ]
  },
  {
   "cell_type": "code",
   "execution_count": 11,
   "metadata": {
    "scrolled": true
   },
   "outputs": [
    {
     "data": {
      "text/html": [
       "<div>\n",
       "<style scoped>\n",
       "    .dataframe tbody tr th:only-of-type {\n",
       "        vertical-align: middle;\n",
       "    }\n",
       "\n",
       "    .dataframe tbody tr th {\n",
       "        vertical-align: top;\n",
       "    }\n",
       "\n",
       "    .dataframe thead th {\n",
       "        text-align: right;\n",
       "    }\n",
       "</style>\n",
       "<table border=\"1\" class=\"dataframe\">\n",
       "  <thead>\n",
       "    <tr style=\"text-align: right;\">\n",
       "      <th></th>\n",
       "      <th>calc_coord_u</th>\n",
       "      <th>calc_coord_v</th>\n",
       "      <th>calc_coord_w</th>\n",
       "    </tr>\n",
       "  </thead>\n",
       "  <tbody>\n",
       "    <tr>\n",
       "      <th>10463</th>\n",
       "      <td>0.438923</td>\n",
       "      <td>0.083367</td>\n",
       "      <td>0.213298</td>\n",
       "    </tr>\n",
       "    <tr>\n",
       "      <th>8660</th>\n",
       "      <td>0.924789</td>\n",
       "      <td>0.818093</td>\n",
       "      <td>0.936374</td>\n",
       "    </tr>\n",
       "    <tr>\n",
       "      <th>10656</th>\n",
       "      <td>0.542044</td>\n",
       "      <td>0.126752</td>\n",
       "      <td>0.034270</td>\n",
       "    </tr>\n",
       "    <tr>\n",
       "      <th>2568</th>\n",
       "      <td>0.137504</td>\n",
       "      <td>0.183898</td>\n",
       "      <td>0.055102</td>\n",
       "    </tr>\n",
       "    <tr>\n",
       "      <th>10575</th>\n",
       "      <td>0.627852</td>\n",
       "      <td>0.946331</td>\n",
       "      <td>0.105682</td>\n",
       "    </tr>\n",
       "  </tbody>\n",
       "</table>\n",
       "</div>"
      ],
      "text/plain": [
       "       calc_coord_u  calc_coord_v  calc_coord_w\n",
       "10463      0.438923      0.083367      0.213298\n",
       "8660       0.924789      0.818093      0.936374\n",
       "10656      0.542044      0.126752      0.034270\n",
       "2568       0.137504      0.183898      0.055102\n",
       "10575      0.627852      0.946331      0.105682"
      ]
     },
     "execution_count": 11,
     "metadata": {},
     "output_type": "execute_result"
    }
   ],
   "source": [
    "y_train.head()"
   ]
  },
  {
   "cell_type": "markdown",
   "metadata": {},
   "source": [
    "### Functional Api"
   ]
  },
  {
   "cell_type": "code",
   "execution_count": 12,
   "metadata": {},
   "outputs": [
    {
     "name": "stdout",
     "output_type": "stream",
     "text": [
      "Model: \"sequential\"\n",
      "_________________________________________________________________\n",
      "Layer (type)                 Output Shape              Param #   \n",
      "=================================================================\n",
      "dense (Dense)                (None, 20)                120       \n",
      "_________________________________________________________________\n",
      "dense_1 (Dense)              (None, 3)                 63        \n",
      "=================================================================\n",
      "Total params: 183\n",
      "Trainable params: 183\n",
      "Non-trainable params: 0\n",
      "_________________________________________________________________\n",
      "None\n"
     ]
    }
   ],
   "source": [
    "model = keras.Sequential()\n",
    "model.add(layers.Dense(20, input_shape=(5,), activation = 'softmax'))\n",
    "model.add(layers.Dense(3,))\n",
    "print(model.summary())"
   ]
  },
  {
   "cell_type": "code",
   "execution_count": 13,
   "metadata": {},
   "outputs": [
    {
     "name": "stdout",
     "output_type": "stream",
     "text": [
      "Epoch 1/120\n",
      "215/215 - 0s - loss: 0.1192 - accuracy: 0.3399 - val_loss: 0.0684 - val_accuracy: 0.5466\n",
      "Epoch 2/120\n",
      "215/215 - 0s - loss: 0.0506 - accuracy: 0.6163 - val_loss: 0.0351 - val_accuracy: 0.6591\n",
      "Epoch 3/120\n",
      "215/215 - 0s - loss: 0.0206 - accuracy: 0.7662 - val_loss: 0.0107 - val_accuracy: 0.8141\n",
      "Epoch 4/120\n",
      "215/215 - 0s - loss: 0.0078 - accuracy: 0.8401 - val_loss: 0.0056 - val_accuracy: 0.8263\n",
      "Epoch 5/120\n",
      "215/215 - 0s - loss: 0.0047 - accuracy: 0.8615 - val_loss: 0.0041 - val_accuracy: 0.8508\n",
      "Epoch 6/120\n",
      "215/215 - 0s - loss: 0.0037 - accuracy: 0.8754 - val_loss: 0.0035 - val_accuracy: 0.8788\n",
      "Epoch 7/120\n",
      "215/215 - 0s - loss: 0.0032 - accuracy: 0.8850 - val_loss: 0.0031 - val_accuracy: 0.8689\n",
      "Epoch 8/120\n",
      "215/215 - 0s - loss: 0.0028 - accuracy: 0.8940 - val_loss: 0.0026 - val_accuracy: 0.8945\n",
      "Epoch 9/120\n",
      "215/215 - 0s - loss: 0.0023 - accuracy: 0.9082 - val_loss: 0.0024 - val_accuracy: 0.8922\n",
      "Epoch 10/120\n",
      "215/215 - 0s - loss: 0.0020 - accuracy: 0.9173 - val_loss: 0.0019 - val_accuracy: 0.9301\n",
      "Epoch 11/120\n",
      "215/215 - 0s - loss: 0.0017 - accuracy: 0.9310 - val_loss: 0.0016 - val_accuracy: 0.9318\n",
      "Epoch 12/120\n",
      "215/215 - 0s - loss: 0.0015 - accuracy: 0.9373 - val_loss: 0.0014 - val_accuracy: 0.9382\n",
      "Epoch 13/120\n",
      "215/215 - 0s - loss: 0.0013 - accuracy: 0.9433 - val_loss: 0.0014 - val_accuracy: 0.9406\n",
      "Epoch 14/120\n",
      "215/215 - 0s - loss: 0.0012 - accuracy: 0.9468 - val_loss: 0.0012 - val_accuracy: 0.9522\n",
      "Epoch 15/120\n",
      "215/215 - 0s - loss: 0.0011 - accuracy: 0.9474 - val_loss: 0.0011 - val_accuracy: 0.9551\n",
      "Epoch 16/120\n",
      "215/215 - 0s - loss: 0.0010 - accuracy: 0.9510 - val_loss: 0.0010 - val_accuracy: 0.9569\n",
      "Epoch 17/120\n",
      "215/215 - 0s - loss: 9.6318e-04 - accuracy: 0.9545 - val_loss: 9.7552e-04 - val_accuracy: 0.9575\n",
      "Epoch 18/120\n",
      "215/215 - 0s - loss: 9.1740e-04 - accuracy: 0.9519 - val_loss: 9.6603e-04 - val_accuracy: 0.9586\n",
      "Epoch 19/120\n",
      "215/215 - 0s - loss: 8.8034e-04 - accuracy: 0.9539 - val_loss: 9.1666e-04 - val_accuracy: 0.9610\n",
      "Epoch 20/120\n",
      "215/215 - 0s - loss: 8.5422e-04 - accuracy: 0.9582 - val_loss: 9.2120e-04 - val_accuracy: 0.9592\n",
      "Epoch 21/120\n",
      "215/215 - 0s - loss: 8.3553e-04 - accuracy: 0.9566 - val_loss: 8.8308e-04 - val_accuracy: 0.9586\n",
      "Epoch 22/120\n",
      "215/215 - 0s - loss: 7.9133e-04 - accuracy: 0.9576 - val_loss: 8.2376e-04 - val_accuracy: 0.9627\n",
      "Epoch 23/120\n",
      "215/215 - 0s - loss: 7.5269e-04 - accuracy: 0.9570 - val_loss: 7.9400e-04 - val_accuracy: 0.9586\n",
      "Epoch 24/120\n",
      "215/215 - 0s - loss: 7.2822e-04 - accuracy: 0.9592 - val_loss: 7.9156e-04 - val_accuracy: 0.9615\n",
      "Epoch 25/120\n",
      "215/215 - 0s - loss: 7.0604e-04 - accuracy: 0.9596 - val_loss: 7.5204e-04 - val_accuracy: 0.9598\n",
      "Epoch 26/120\n",
      "215/215 - 0s - loss: 6.8342e-04 - accuracy: 0.9605 - val_loss: 7.4228e-04 - val_accuracy: 0.9633\n",
      "Epoch 27/120\n",
      "215/215 - 0s - loss: 6.6749e-04 - accuracy: 0.9609 - val_loss: 8.0261e-04 - val_accuracy: 0.9610\n",
      "Epoch 28/120\n",
      "215/215 - 0s - loss: 6.5613e-04 - accuracy: 0.9625 - val_loss: 6.9450e-04 - val_accuracy: 0.9598\n",
      "Epoch 29/120\n",
      "215/215 - 0s - loss: 6.4192e-04 - accuracy: 0.9606 - val_loss: 6.9313e-04 - val_accuracy: 0.9610\n",
      "Epoch 30/120\n",
      "215/215 - 0s - loss: 6.1756e-04 - accuracy: 0.9630 - val_loss: 7.2270e-04 - val_accuracy: 0.9650\n",
      "Epoch 31/120\n",
      "215/215 - 0s - loss: 6.0957e-04 - accuracy: 0.9636 - val_loss: 6.4617e-04 - val_accuracy: 0.9662\n",
      "Epoch 32/120\n",
      "215/215 - 0s - loss: 5.8032e-04 - accuracy: 0.9644 - val_loss: 6.2496e-04 - val_accuracy: 0.9645\n",
      "Epoch 33/120\n",
      "215/215 - 0s - loss: 5.7756e-04 - accuracy: 0.9631 - val_loss: 6.0275e-04 - val_accuracy: 0.9668\n",
      "Epoch 34/120\n",
      "215/215 - 0s - loss: 5.7640e-04 - accuracy: 0.9641 - val_loss: 7.1413e-04 - val_accuracy: 0.9639\n",
      "Epoch 35/120\n",
      "215/215 - 0s - loss: 5.4212e-04 - accuracy: 0.9644 - val_loss: 5.7963e-04 - val_accuracy: 0.9703\n",
      "Epoch 36/120\n",
      "215/215 - 0s - loss: 5.3601e-04 - accuracy: 0.9649 - val_loss: 5.9193e-04 - val_accuracy: 0.9685\n",
      "Epoch 37/120\n",
      "215/215 - 0s - loss: 5.2803e-04 - accuracy: 0.9634 - val_loss: 5.8153e-04 - val_accuracy: 0.9714\n",
      "Epoch 38/120\n",
      "215/215 - 0s - loss: 5.0640e-04 - accuracy: 0.9668 - val_loss: 5.6364e-04 - val_accuracy: 0.9668\n",
      "Epoch 39/120\n",
      "215/215 - 0s - loss: 5.1071e-04 - accuracy: 0.9650 - val_loss: 5.6715e-04 - val_accuracy: 0.9662\n",
      "Epoch 40/120\n",
      "215/215 - 0s - loss: 4.9051e-04 - accuracy: 0.9668 - val_loss: 5.3274e-04 - val_accuracy: 0.9709\n",
      "Epoch 41/120\n",
      "215/215 - 0s - loss: 4.8316e-04 - accuracy: 0.9663 - val_loss: 5.3557e-04 - val_accuracy: 0.9697\n",
      "Epoch 42/120\n",
      "215/215 - 0s - loss: 4.7900e-04 - accuracy: 0.9666 - val_loss: 5.9060e-04 - val_accuracy: 0.9697\n",
      "Epoch 43/120\n",
      "215/215 - 0s - loss: 4.6592e-04 - accuracy: 0.9656 - val_loss: 5.1752e-04 - val_accuracy: 0.9738\n",
      "Epoch 44/120\n",
      "215/215 - 0s - loss: 4.6724e-04 - accuracy: 0.9692 - val_loss: 5.6533e-04 - val_accuracy: 0.9697\n",
      "Epoch 45/120\n",
      "215/215 - 0s - loss: 4.5472e-04 - accuracy: 0.9676 - val_loss: 5.0206e-04 - val_accuracy: 0.9703\n",
      "Epoch 46/120\n",
      "215/215 - 0s - loss: 4.4350e-04 - accuracy: 0.9681 - val_loss: 4.8789e-04 - val_accuracy: 0.9691\n",
      "Epoch 47/120\n",
      "215/215 - 0s - loss: 4.3677e-04 - accuracy: 0.9688 - val_loss: 4.8762e-04 - val_accuracy: 0.9749\n",
      "Epoch 48/120\n",
      "215/215 - 0s - loss: 4.3051e-04 - accuracy: 0.9687 - val_loss: 4.7321e-04 - val_accuracy: 0.9755\n",
      "Epoch 49/120\n",
      "215/215 - 0s - loss: 4.3152e-04 - accuracy: 0.9676 - val_loss: 4.9479e-04 - val_accuracy: 0.9755\n",
      "Epoch 50/120\n",
      "215/215 - 0s - loss: 4.1625e-04 - accuracy: 0.9701 - val_loss: 4.5188e-04 - val_accuracy: 0.9773\n",
      "Epoch 51/120\n",
      "215/215 - 0s - loss: 3.7023e-04 - accuracy: 0.9736 - val_loss: 3.9667e-04 - val_accuracy: 0.9796\n",
      "Epoch 52/120\n",
      "215/215 - 0s - loss: 2.8007e-04 - accuracy: 0.9777 - val_loss: 3.5478e-04 - val_accuracy: 0.9814\n",
      "Epoch 53/120\n",
      "215/215 - 0s - loss: 2.3637e-04 - accuracy: 0.9816 - val_loss: 3.0486e-04 - val_accuracy: 0.9831\n",
      "Epoch 54/120\n",
      "215/215 - 0s - loss: 2.1488e-04 - accuracy: 0.9819 - val_loss: 2.8075e-04 - val_accuracy: 0.9814\n",
      "Epoch 55/120\n",
      "215/215 - 0s - loss: 1.9345e-04 - accuracy: 0.9812 - val_loss: 2.4982e-04 - val_accuracy: 0.9819\n",
      "Epoch 56/120\n",
      "215/215 - 0s - loss: 1.7778e-04 - accuracy: 0.9821 - val_loss: 2.5583e-04 - val_accuracy: 0.9814\n",
      "Epoch 57/120\n",
      "215/215 - 0s - loss: 1.6956e-04 - accuracy: 0.9827 - val_loss: 2.7922e-04 - val_accuracy: 0.9784\n",
      "Epoch 58/120\n",
      "215/215 - 0s - loss: 1.5588e-04 - accuracy: 0.9834 - val_loss: 2.1928e-04 - val_accuracy: 0.9843\n",
      "Epoch 59/120\n",
      "215/215 - 0s - loss: 1.4869e-04 - accuracy: 0.9844 - val_loss: 2.0788e-04 - val_accuracy: 0.9837\n",
      "Epoch 60/120\n",
      "215/215 - 0s - loss: 1.3511e-04 - accuracy: 0.9847 - val_loss: 2.3737e-04 - val_accuracy: 0.9831\n",
      "Epoch 61/120\n",
      "215/215 - 0s - loss: 1.3383e-04 - accuracy: 0.9851 - val_loss: 1.8717e-04 - val_accuracy: 0.9872\n",
      "Epoch 62/120\n",
      "215/215 - 0s - loss: 1.2640e-04 - accuracy: 0.9863 - val_loss: 1.8620e-04 - val_accuracy: 0.9848\n",
      "Epoch 63/120\n",
      "215/215 - 0s - loss: 1.2721e-04 - accuracy: 0.9857 - val_loss: 1.8421e-04 - val_accuracy: 0.9866\n",
      "Epoch 64/120\n",
      "215/215 - 0s - loss: 1.2677e-04 - accuracy: 0.9879 - val_loss: 1.7339e-04 - val_accuracy: 0.9889\n",
      "Epoch 65/120\n",
      "215/215 - 0s - loss: 1.1967e-04 - accuracy: 0.9870 - val_loss: 2.0270e-04 - val_accuracy: 0.9895\n",
      "Epoch 66/120\n",
      "215/215 - 0s - loss: 1.1829e-04 - accuracy: 0.9873 - val_loss: 1.8025e-04 - val_accuracy: 0.9901\n",
      "Epoch 67/120\n",
      "215/215 - 0s - loss: 1.1243e-04 - accuracy: 0.9882 - val_loss: 1.8113e-04 - val_accuracy: 0.9913\n",
      "Epoch 68/120\n",
      "215/215 - 0s - loss: 1.0495e-04 - accuracy: 0.9892 - val_loss: 1.6914e-04 - val_accuracy: 0.9918\n",
      "Epoch 69/120\n",
      "215/215 - 0s - loss: 1.0670e-04 - accuracy: 0.9894 - val_loss: 1.9836e-04 - val_accuracy: 0.9895\n",
      "Epoch 70/120\n",
      "215/215 - 0s - loss: 1.0442e-04 - accuracy: 0.9902 - val_loss: 1.9038e-04 - val_accuracy: 0.9913\n",
      "Epoch 71/120\n",
      "215/215 - 0s - loss: 1.1073e-04 - accuracy: 0.9904 - val_loss: 1.9855e-04 - val_accuracy: 0.9907\n",
      "Epoch 72/120\n",
      "215/215 - 0s - loss: 1.0186e-04 - accuracy: 0.9902 - val_loss: 1.8652e-04 - val_accuracy: 0.9901\n",
      "Epoch 73/120\n",
      "215/215 - 0s - loss: 1.0158e-04 - accuracy: 0.9904 - val_loss: 1.6274e-04 - val_accuracy: 0.9918\n",
      "Epoch 74/120\n",
      "215/215 - 0s - loss: 1.0286e-04 - accuracy: 0.9907 - val_loss: 1.6869e-04 - val_accuracy: 0.9901\n",
      "Epoch 75/120\n",
      "215/215 - 0s - loss: 1.0440e-04 - accuracy: 0.9898 - val_loss: 1.6135e-04 - val_accuracy: 0.9907\n",
      "Epoch 76/120\n",
      "215/215 - 0s - loss: 9.9254e-05 - accuracy: 0.9910 - val_loss: 1.6240e-04 - val_accuracy: 0.9907\n"
     ]
    },
    {
     "name": "stdout",
     "output_type": "stream",
     "text": [
      "Epoch 77/120\n",
      "215/215 - 0s - loss: 9.8638e-05 - accuracy: 0.9910 - val_loss: 2.1378e-04 - val_accuracy: 0.9895\n",
      "Epoch 78/120\n",
      "215/215 - 0s - loss: 9.9465e-05 - accuracy: 0.9904 - val_loss: 1.5555e-04 - val_accuracy: 0.9895\n",
      "Epoch 79/120\n",
      "215/215 - 0s - loss: 9.6145e-05 - accuracy: 0.9910 - val_loss: 1.5953e-04 - val_accuracy: 0.9913\n",
      "Epoch 80/120\n",
      "215/215 - 0s - loss: 9.5586e-05 - accuracy: 0.9911 - val_loss: 1.5546e-04 - val_accuracy: 0.9913\n",
      "Epoch 81/120\n",
      "215/215 - 0s - loss: 9.5958e-05 - accuracy: 0.9895 - val_loss: 1.5890e-04 - val_accuracy: 0.9918\n",
      "Epoch 82/120\n",
      "215/215 - 0s - loss: 9.5476e-05 - accuracy: 0.9913 - val_loss: 1.5415e-04 - val_accuracy: 0.9907\n",
      "Epoch 83/120\n",
      "215/215 - 0s - loss: 1.0072e-04 - accuracy: 0.9913 - val_loss: 1.6158e-04 - val_accuracy: 0.9901\n",
      "Epoch 84/120\n",
      "215/215 - 0s - loss: 9.1650e-05 - accuracy: 0.9910 - val_loss: 1.9014e-04 - val_accuracy: 0.9907\n",
      "Epoch 85/120\n",
      "215/215 - 0s - loss: 9.3993e-05 - accuracy: 0.9910 - val_loss: 1.5067e-04 - val_accuracy: 0.9918\n",
      "Epoch 86/120\n",
      "215/215 - 0s - loss: 9.0489e-05 - accuracy: 0.9915 - val_loss: 1.4945e-04 - val_accuracy: 0.9936\n",
      "Epoch 87/120\n",
      "215/215 - 0s - loss: 9.1989e-05 - accuracy: 0.9915 - val_loss: 1.5575e-04 - val_accuracy: 0.9918\n",
      "Epoch 88/120\n",
      "215/215 - 0s - loss: 9.4143e-05 - accuracy: 0.9911 - val_loss: 1.5871e-04 - val_accuracy: 0.9901\n",
      "Epoch 89/120\n",
      "215/215 - 0s - loss: 9.2866e-05 - accuracy: 0.9923 - val_loss: 1.5394e-04 - val_accuracy: 0.9913\n",
      "Epoch 90/120\n",
      "215/215 - 0s - loss: 8.8087e-05 - accuracy: 0.9926 - val_loss: 1.5789e-04 - val_accuracy: 0.9913\n",
      "Epoch 91/120\n",
      "215/215 - 0s - loss: 9.2221e-05 - accuracy: 0.9902 - val_loss: 1.5224e-04 - val_accuracy: 0.9918\n",
      "Epoch 92/120\n",
      "215/215 - 0s - loss: 9.2366e-05 - accuracy: 0.9915 - val_loss: 1.4984e-04 - val_accuracy: 0.9913\n",
      "Epoch 93/120\n",
      "215/215 - 0s - loss: 9.4659e-05 - accuracy: 0.9911 - val_loss: 1.5069e-04 - val_accuracy: 0.9936\n",
      "Epoch 94/120\n",
      "215/215 - 0s - loss: 9.0582e-05 - accuracy: 0.9931 - val_loss: 1.5082e-04 - val_accuracy: 0.9930\n",
      "Epoch 95/120\n",
      "215/215 - 0s - loss: 9.0210e-05 - accuracy: 0.9911 - val_loss: 1.5807e-04 - val_accuracy: 0.9924\n",
      "Epoch 96/120\n",
      "215/215 - 0s - loss: 8.7940e-05 - accuracy: 0.9923 - val_loss: 1.5241e-04 - val_accuracy: 0.9936\n",
      "Epoch 97/120\n",
      "215/215 - 0s - loss: 8.7202e-05 - accuracy: 0.9917 - val_loss: 1.6309e-04 - val_accuracy: 0.9913\n",
      "Epoch 98/120\n",
      "215/215 - 0s - loss: 8.8347e-05 - accuracy: 0.9920 - val_loss: 1.5874e-04 - val_accuracy: 0.9924\n",
      "Epoch 99/120\n",
      "215/215 - 0s - loss: 8.5367e-05 - accuracy: 0.9931 - val_loss: 2.1757e-04 - val_accuracy: 0.9866\n",
      "Epoch 100/120\n",
      "215/215 - 0s - loss: 9.4422e-05 - accuracy: 0.9911 - val_loss: 1.4828e-04 - val_accuracy: 0.9924\n",
      "Epoch 101/120\n",
      "215/215 - 0s - loss: 9.5873e-05 - accuracy: 0.9913 - val_loss: 1.4682e-04 - val_accuracy: 0.9936\n",
      "Epoch 102/120\n",
      "215/215 - 0s - loss: 8.8850e-05 - accuracy: 0.9931 - val_loss: 1.5316e-04 - val_accuracy: 0.9913\n",
      "Epoch 103/120\n",
      "215/215 - 0s - loss: 8.4556e-05 - accuracy: 0.9915 - val_loss: 1.4808e-04 - val_accuracy: 0.9953\n",
      "Epoch 104/120\n",
      "215/215 - 0s - loss: 8.7025e-05 - accuracy: 0.9917 - val_loss: 1.7115e-04 - val_accuracy: 0.9889\n",
      "Epoch 105/120\n",
      "215/215 - 0s - loss: 9.0065e-05 - accuracy: 0.9905 - val_loss: 1.4758e-04 - val_accuracy: 0.9924\n",
      "Epoch 106/120\n",
      "215/215 - 0s - loss: 8.3307e-05 - accuracy: 0.9924 - val_loss: 1.5096e-04 - val_accuracy: 0.9918\n",
      "Epoch 107/120\n",
      "215/215 - 0s - loss: 8.6758e-05 - accuracy: 0.9914 - val_loss: 1.9819e-04 - val_accuracy: 0.9948\n",
      "Epoch 108/120\n",
      "215/215 - 0s - loss: 8.8380e-05 - accuracy: 0.9911 - val_loss: 1.5935e-04 - val_accuracy: 0.9918\n",
      "Epoch 109/120\n",
      "215/215 - 0s - loss: 8.9702e-05 - accuracy: 0.9926 - val_loss: 2.0803e-04 - val_accuracy: 0.9878\n",
      "Epoch 110/120\n",
      "215/215 - 0s - loss: 9.0987e-05 - accuracy: 0.9920 - val_loss: 1.4400e-04 - val_accuracy: 0.9953\n",
      "Epoch 111/120\n",
      "215/215 - 0s - loss: 8.8292e-05 - accuracy: 0.9913 - val_loss: 1.5680e-04 - val_accuracy: 0.9924\n",
      "Epoch 112/120\n",
      "215/215 - 0s - loss: 8.7653e-05 - accuracy: 0.9921 - val_loss: 1.4641e-04 - val_accuracy: 0.9936\n",
      "Epoch 113/120\n",
      "215/215 - 0s - loss: 8.4927e-05 - accuracy: 0.9926 - val_loss: 1.5379e-04 - val_accuracy: 0.9907\n",
      "Epoch 114/120\n",
      "215/215 - 0s - loss: 8.5869e-05 - accuracy: 0.9924 - val_loss: 1.5013e-04 - val_accuracy: 0.9936\n",
      "Epoch 115/120\n",
      "215/215 - 0s - loss: 7.9895e-05 - accuracy: 0.9931 - val_loss: 1.4929e-04 - val_accuracy: 0.9924\n",
      "Epoch 116/120\n",
      "215/215 - 0s - loss: 8.3886e-05 - accuracy: 0.9920 - val_loss: 1.4853e-04 - val_accuracy: 0.9936\n",
      "Epoch 117/120\n",
      "215/215 - 0s - loss: 8.8670e-05 - accuracy: 0.9923 - val_loss: 1.4513e-04 - val_accuracy: 0.9930\n",
      "Epoch 118/120\n",
      "215/215 - 0s - loss: 8.3373e-05 - accuracy: 0.9931 - val_loss: 1.5780e-04 - val_accuracy: 0.9913\n",
      "Epoch 119/120\n",
      "215/215 - 0s - loss: 8.2435e-05 - accuracy: 0.9918 - val_loss: 1.5906e-04 - val_accuracy: 0.9889\n",
      "Epoch 120/120\n",
      "215/215 - 0s - loss: 8.4509e-05 - accuracy: 0.9921 - val_loss: 1.4324e-04 - val_accuracy: 0.9942\n",
      "68/68 - 0s - loss: 8.4772e-05 - accuracy: 0.9925\n"
     ]
    },
    {
     "data": {
      "text/plain": [
       "[8.477154187858105e-05, 0.9925407767295837]"
      ]
     },
     "execution_count": 13,
     "metadata": {},
     "output_type": "execute_result"
    }
   ],
   "source": [
    "model.compile(\n",
    "    loss='mean_squared_error',\n",
    "    optimizer=keras.optimizers.Adam(lr=0.002),\n",
    "    metrics=[\"accuracy\"]),\n",
    "history = model.fit(x_train, y_train, epochs = 120, validation_split = 0.2,verbose = 2)\n",
    "model.evaluate(x_test, y_test, batch_size=32, verbose=2) #test for one epoch"
   ]
  },
  {
   "cell_type": "code",
   "execution_count": 30,
   "metadata": {},
   "outputs": [
    {
     "data": {
      "image/png": "[encoded data removed]",
      "text/plain": [
       "<Figure size 648x504 with 1 Axes>"
      ]
     },
     "metadata": {
      "needs_background": "light"
     },
     "output_type": "display_data"
    }
   ],
   "source": [
    "# Plots 'history'\n",
    "fig, (ax2) = plt.subplots(figsize=(9,7))\n",
    "\n",
    "paper_rc = {'lines.linewidth':1.5}\n",
    "ax2 =sns.set_context(\"paper\", font_scale=1.5, rc=paper_rc)\n",
    "\n",
    "history_dict=history.history\n",
    "loss_values = history_dict['loss']\n",
    "val_loss_values=history_dict['val_loss']\n",
    "plt.plot(loss_values,'bo',label='training loss')\n",
    "plt.plot(val_loss_values,'r',label='training loss val')\n",
    "plt.ylim(0,0.03)\n",
    "plt.ylabel('Loss')\n",
    "plt.xlabel('Epoch')\n",
    "plt.legend(['Training loss', 'Validation loss'])\n",
    "\n",
    "ax2_name = 'Loss_vs_Val_loss_for_nn_sequential' + '.tiff'\n",
    "plt.savefig(ax2_name, dpi=300);\n",
    "\n",
    "plt.show()"
   ]
  },
  {
   "cell_type": "code",
   "execution_count": 21,
   "metadata": {},
   "outputs": [
    {
     "name": "stdout",
     "output_type": "stream",
     "text": [
      "The R2 score on the Train set is:\t0.999\n",
      "The R2 score on the Test set is:\t0.999\n"
     ]
    }
   ],
   "source": [
    "# R square score to check the model accurary\n",
    "y_train_pred = model.predict(x_train)\n",
    "y_test_pred = model.predict(x_test)\n",
    "print(\"The R2 score on the Train set is:\\t{:0.3f}\".format(r2_score(y_train, y_train_pred)))\n",
    "print(\"The R2 score on the Test set is:\\t{:0.3f}\".format(r2_score(y_test, y_test_pred)))"
   ]
  },
  {
   "cell_type": "code",
   "execution_count": 39,
   "metadata": {},
   "outputs": [],
   "source": [
    "Y_pred = model.predict(x_test)\n",
    "Y_pred = Y_pred[:,0]\n",
    "y_test = y_test[:,0]"
   ]
  },
  {
   "cell_type": "code",
   "execution_count": 40,
   "metadata": {},
   "outputs": [
    {
     "data": {
      "image/png": "[encoded data removed]",
      "text/plain": [
       "<Figure size 432x288 with 1 Axes>"
      ]
     },
     "metadata": {
      "needs_background": "light"
     },
     "output_type": "display_data"
    }
   ],
   "source": [
    "fig, (ax1) = plt.subplots(figsize=(9,7))\n",
    "\n",
    "paper_rc = {'lines.linewidth':1.5}\n",
    "ax1 =sns.set_context(\"paper\", font_scale=1.5, rc=paper_rc)\n",
    "\n",
    "plt.scatter(y_test, Y_pred)\n",
    "plt.xlabel(\"True Values\")\n",
    "plt.ylabel(\"Predicted Values\")\n",
    "\n",
    "ax1_name = 'True_vs_Predicted_value_for_nn_sequential' + '.tiff'\n",
    "plt.savefig(ax1_name, dpi=300);\n",
    "\n",
    "plt.show()"
   ]
  },
  {
   "cell_type": "code",
   "execution_count": 48,
   "metadata": {},
   "outputs": [
    {
     "data": {
      "image/png": "[encoded data removed]",
      "text/plain": [
       "<Figure size 648x504 with 1 Axes>"
      ]
     },
     "metadata": {
      "needs_background": "light"
     },
     "output_type": "display_data"
    }
   ],
   "source": [
    "fig, (ax1) = plt.subplots(figsize=(9,7))\n",
    "\n",
    "paper_rc = {'lines.linewidth':1.5}\n",
    "ax1 =sns.set_context(\"paper\", font_scale=1.5, rc=paper_rc)\n",
    "plt.scatter(y_test, Y_pred, c='crimson')\n",
    "#plt.yscale('log')\n",
    "#plt.xscale('log')\n",
    "\n",
    "p1 = max(max(Y_pred), max(y_test))\n",
    "p2 = min(min(Y_pred), min(y_test))\n",
    "plt.plot([p1, p2], [p1, p2], 'b-')\n",
    "plt.xlabel('True Values', fontsize=15)\n",
    "plt.ylabel('Predictions', fontsize=15)\n",
    "\n",
    "ax1_name = 'True_vs_Predicted_value_for_nn_sequential' + '.tiff'\n",
    "plt.savefig(ax1_name, dpi=300);\n",
    "\n",
    "plt.show()"
   ]
  }
 ],
 "metadata": {
  "kernelspec": {
   "display_name": "Python 3",
   "language": "python",
   "name": "python3"
  },
  "language_info": {
   "codemirror_mode": {
    "name": "ipython",
    "version": 3
   },
   "file_extension": ".py",
   "mimetype": "text/x-python",
   "name": "python",
   "nbconvert_exporter": "python",
   "pygments_lexer": "ipython3",
   "version": "3.8.10"
  }
 },
 "nbformat": 4,
 "nbformat_minor": 4
}
